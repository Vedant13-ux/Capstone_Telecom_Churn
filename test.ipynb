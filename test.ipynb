{
 "cells": [
  {
   "cell_type": "code",
   "execution_count": 6,
   "metadata": {},
   "outputs": [],
   "source": [
    "import pickle \n",
    "import openpyxl\n",
    "import pandas as pd\n",
    "from sklearn.preprocessing import StandardScaler, LabelEncoder\n",
    "\n",
    "# Load the model from the file\n",
    "classifier_from_pickle = pickle.load(open('classifier.pkl', 'rb'))\n",
    "\n",
    "# Load the Scaler and Label Encoder from the file\n",
    "label_encoder = pickle.load(open('label_encoder.pkl', 'rb'))\n",
    "scaler = pickle.load(open('scaler.pkl', 'rb'))\n",
    "\n",
    "\n",
    "# Get Inputs using openpyxl\n",
    "wb = openpyxl.load_workbook('Telecom_Churn.xlsm')\n",
    "sheet = wb.active\n",
    "\n",
    "# Get the inputs from the excel sheet and apply the transformations\n",
    "gender = label_encoder['Gender'].transform([sheet['B2'].value])[0]\n",
    "senior_citizen = label_encoder['SeniorCitizen'].transform([sheet['B3'].value])[0]\n",
    "partner = label_encoder['Partner'].transform([sheet['B4'].value])[0]\n",
    "dependents = label_encoder['Dependents'].transform([sheet['B5'].value])[0]\n",
    "tenure = sheet['B6'].value\n",
    "phone_service = label_encoder['PhoneService'].transform([sheet['B7'].value])[0]\n",
    "multiple_lines = 1 if sheet['B8'].value=='Yes' else 0\n",
    "internet_service = sheet['B9'].value\n",
    "online_security = 1 if sheet['B10'].value=='Yes' else 0\n",
    "online_backup = 1 if sheet['B11'].value=='Yes' else 0\n",
    "device_protection = 1 if sheet['B12'].value=='Yes' else 0\n",
    "tech_support = 1 if sheet['B13'].value=='Yes' else 0\n",
    "streaming_tv = 1 if sheet['B14'].value=='Yes' else 0\n",
    "streaming_movies = 1 if sheet['B15'].value=='Yes' else 0\n",
    "contract = sheet['B16'].value\n",
    "paperless_billing = label_encoder['PaperlessBilling'].transform([sheet['B17'].value])[0]\n",
    "payment_method = sheet['B18'].value\n",
    "monthly_charges = sheet['B19'].value\n",
    "\n",
    "# Scaling tenure and monthly charges\n",
    "[[monthly_charges, tenure]] = scaler.transform([[monthly_charges, tenure]])\n",
    "\n",
    "\n",
    "# One hot encoding for contract and payment method\n",
    "contract_mm = 0\n",
    "contract_1 = 0\n",
    "contract_2 = 0\n",
    "if contract == 'One year':\n",
    "    contract_1 = 1\n",
    "elif contract == 'Two year':\n",
    "    contract_2 = 1\n",
    "else:\n",
    "    contract_mm = 1\n",
    "\n",
    "\n",
    "payment_method_bank = 0\n",
    "payment_method_cc = 0\n",
    "payment_method_ee = 0\n",
    "payment_method_mm = 0\n",
    "if payment_method == 'Bank transfer (automatic)':\n",
    "    payment_method_bank = 1\n",
    "elif payment_method == 'Credit card (automatic)':\n",
    "    payment_method_cc = 1\n",
    "elif payment_method == 'Electronic check':\n",
    "    payment_method_ee = 1\n",
    "else:\n",
    "    payment_method_mm = 1\n",
    "\n",
    "\n",
    "internet_service_dsl = 0\n",
    "internet_service_fiber = 0\n",
    "internet_service_no = 0\n",
    "\n",
    "if internet_service == 'DSL':\n",
    "    internet_service_dsl = 1\n",
    "elif internet_service == 'Fiber optic':\n",
    "    internet_service_fiber = 1\n",
    "else:\n",
    "    internet_service_no = 1\n",
    "\n",
    "\n",
    "# Create a dataframe with the inputs\n",
    "X = [gender, senior_citizen, partner, dependents, tenure, phone_service, multiple_lines, online_security, online_backup, device_protection, tech_support, streaming_tv, streaming_movies,paperless_billing, monthly_charges, contract_mm, contract_1, contract_2, payment_method_bank, payment_method_cc, payment_method_ee, payment_method_mm, internet_service_dsl, internet_service_fiber, internet_service_no]\n"
   ]
  },
  {
   "cell_type": "code",
   "execution_count": 4,
   "metadata": {},
   "outputs": [
    {
     "data": {
      "text/plain": [
       "26"
      ]
     },
     "execution_count": 4,
     "metadata": {},
     "output_type": "execute_result"
    }
   ],
   "source": [
    "len(X)"
   ]
  },
  {
   "cell_type": "code",
   "execution_count": null,
   "metadata": {},
   "outputs": [],
   "source": [
    "# Predict the output\n",
    "y_pred = classifier_from_pickle.predict([X])\n",
    "\n",
    "# Write the output to the excel sheet\n",
    "sheet['F10'] = y_pred[0]\n"
   ]
  },
  {
   "cell_type": "code",
   "execution_count": 5,
   "metadata": {},
   "outputs": [
    {
     "data": {
      "text/plain": [
       "[1,\n",
       " 1,\n",
       " 0,\n",
       " 0,\n",
       " -1.2387491702918063,\n",
       " 0,\n",
       " 0,\n",
       " 'Yes',\n",
       " 1,\n",
       " 1,\n",
       " 1,\n",
       " 1,\n",
       " 1,\n",
       " 1,\n",
       " 0,\n",
       " 31.65937828348502,\n",
       " 0,\n",
       " 1,\n",
       " 0,\n",
       " 0,\n",
       " 0,\n",
       " 0,\n",
       " 1,\n",
       " 0,\n",
       " 0,\n",
       " 1]"
      ]
     },
     "execution_count": 5,
     "metadata": {},
     "output_type": "execute_result"
    }
   ],
   "source": [
    "X"
   ]
  },
  {
   "cell_type": "code",
   "execution_count": null,
   "metadata": {},
   "outputs": [],
   "source": []
  }
 ],
 "metadata": {
  "kernelspec": {
   "display_name": "base",
   "language": "python",
   "name": "python3"
  },
  "language_info": {
   "codemirror_mode": {
    "name": "ipython",
    "version": 3
   },
   "file_extension": ".py",
   "mimetype": "text/x-python",
   "name": "python",
   "nbconvert_exporter": "python",
   "pygments_lexer": "ipython3",
   "version": "3.8.5"
  },
  "orig_nbformat": 4,
  "vscode": {
   "interpreter": {
    "hash": "f2296c16c2b08120eed1d4190813cc579afcf072f2aa51798068644334e36196"
   }
  }
 },
 "nbformat": 4,
 "nbformat_minor": 2
}
